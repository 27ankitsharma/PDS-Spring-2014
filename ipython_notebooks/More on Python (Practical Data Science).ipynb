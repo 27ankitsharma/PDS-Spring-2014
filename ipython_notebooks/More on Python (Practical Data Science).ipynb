{
 "metadata": {
  "name": ""
 },
 "nbformat": 3,
 "nbformat_minor": 0,
 "worksheets": [
  {
   "cells": [
    {
     "cell_type": "markdown",
     "metadata": {},
     "source": [
      "Class Objects\n",
      "-------------\n",
      "\n",
      "Python is what is known as an object-oriented programming language. This means python allows a programmer to define special custom data structures called classes that not only can contain their own data elements, but special fucntions called methods that can potentially alter a class instance's internal state. \n",
      "\n",
      "Classes are defined through the keyword `class`, followed by the name of the class, which, by convention, is capitalized. This is followed by a code block that specifies the methods that define a class. Note that classes are a rich and complex topic in python. However, much of the functionality we will be using throughout this course, in particular, python's machine learning libraries, will be accessed through class objects. Please see the [official documentation](http://docs.python.org/2/tutorial/classes.html) for more info."
     ]
    },
    {
     "cell_type": "code",
     "collapsed": false,
     "input": [
      "class TestClass:\n",
      "    def im_a_class(self):\n",
      "        print \"hi! i'm a class!\"\n",
      "\n",
      "    def hello(self, name):\n",
      "        print \"hello %s!\" % name"
     ],
     "language": "python",
     "metadata": {},
     "outputs": [],
     "prompt_number": 1
    },
    {
     "cell_type": "markdown",
     "metadata": {},
     "source": [
      "Note that the method functions inside the class definition take a special extra parameter, `self`. This tells the method that it is assigned to an example of a class, and when it is invoked, it potentially operates on that example, but not other examples of that class.\n",
      "\n",
      "Concrete examples of classes are called class objects. These are created using a special function called a class constructor. In python, unless the programmer specifies otherwise, all classes are assigned a class constructor that doesn't take any arguments, and doesn't do anything beyond create a new example class object. These constructor functions are invoked by calling the class name as if you were calling a function, that is, using the class name with parentheses afterwards.\n",
      "\n",
      "Methods associated with a class can be invoked by the special dot operator (`.`). Here, you take a class object, a concrete example of a class, often assigned to a variable, then use the dot character (`.`), then the method you wish to call. This method operates only on the class object to the left of the dot. The arguments passed to these methods ignore the special `self`, keyword mentioned above, you only need to pass in what is to the right of this keyword, if anything."
     ]
    },
    {
     "cell_type": "code",
     "collapsed": false,
     "input": [
      "a_test_class = TestClass()\n",
      "a_test_class.im_a_class()\n",
      "\n",
      "\n",
      "a_test_class.hello(\"josh\")"
     ],
     "language": "python",
     "metadata": {},
     "outputs": [
      {
       "output_type": "stream",
       "stream": "stdout",
       "text": [
        "hi! i'm a class!\n",
        "hello josh!\n"
       ]
      }
     ],
     "prompt_number": 2
    },
    {
     "cell_type": "markdown",
     "metadata": {},
     "source": [
      "As mentioned above, classes always have a special function called a constructor that is used to build concrete instances of class objects. A programmer can define their own constructor function, defining any actions that are performed when building a new class object, and data that are used internally within a class object. Like all functions, constructors can take arguments that can be used during their execution. Like methods in a class, the constructor definition takes the special `self` parameter as the left most argument in it's definition. This allows you to modify the internal state of the class object being constructed. Here is an example class with a custom constructor. Note that internal variables or methods can be accessed through the dot operator on `self`."
     ]
    },
    {
     "cell_type": "code",
     "collapsed": false,
     "input": [
      "class Person:\n",
      "    def __init__(self, first_name, last_name):\n",
      "        self.first = first_name\n",
      "        self.last = last_name\n",
      "        self.hollers = 0\n",
      "\n",
      "    def holler(self):\n",
      "        self.hollers = self.hollers + 1\n",
      "        print \"%s has been hollered at %d times\" % (self.first, self.hollers)\n",
      "        \n",
      "josh = Person(\"josh\", \"attenberg\")\n",
      "josh.holler()\n",
      "josh.holler()\n",
      "print josh.first"
     ],
     "language": "python",
     "metadata": {},
     "outputs": [
      {
       "output_type": "stream",
       "stream": "stdout",
       "text": [
        "josh has been hollered at 1 times\n",
        "josh has been hollered at 2 times\n",
        "josh\n"
       ]
      }
     ],
     "prompt_number": 3
    },
    {
     "cell_type": "markdown",
     "metadata": {},
     "source": [
      "List Comprehensions\n",
      "-------------------\n",
      "\n",
      "todo"
     ]
    },
    {
     "cell_type": "markdown",
     "metadata": {},
     "source": [
      "Lambdas\n",
      "-------\n",
      "\n",
      "todo"
     ]
    },
    {
     "cell_type": "code",
     "collapsed": false,
     "input": [],
     "language": "python",
     "metadata": {},
     "outputs": []
    }
   ],
   "metadata": {}
  }
 ]
}